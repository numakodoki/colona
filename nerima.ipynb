{
  "nbformat": 4,
  "nbformat_minor": 0,
  "metadata": {
    "colab": {
      "name": "nerima.ipynb",
      "provenance": []
    },
    "kernelspec": {
      "name": "python3",
      "display_name": "Python 3"
    },
    "language_info": {
      "name": "python"
    }
  },
  "cells": [
    {
      "cell_type": "markdown",
      "source": [
        "下のコマンドが入力されているセル横の再生マークをクリック(もしくはセルの中にカーソルを置き、ctrl + enter)  \n",
        "1行目: pdftotestをinstall  \n",
        "2行目: サイトから今あるpdfファイルのファイル名を取得。pdfをダウンロードしてcsvに整形。  \n",
        "*_1.csvはNO列無し。NO列には改ページらしき記号が挿入されているため。  \n",
        "左側の一番下、\"ファイル\"アイコンをクリックすると、ダウンロードしたpdf、整形後のcsvが見える。必要ファイルを選択肢、縦3点からダウンロードを実行。  \n",
        "早めのダウンロード推奨。ファイルは定期的に消える。  \n",
        "\n",
        "localにlinux環境があるなら(windows wslでも良い)、コマンド先頭の!を削除し、コピーして1行ずつ実行。2行目は;で改行し、1行ずつ実行出来る。  \n",
        "\n",
        "[![Open In Colab](https://colab.research.google.com/assets/colab-badge.svg)](https://colab.research.google.com/github/numakodoki/colona/blob/develop/nerima.ipynb)"
      ],
      "metadata": {
        "id": "81FaZG8dwBAf"
      }
    },
    {
      "cell_type": "code",
      "execution_count": 1,
      "metadata": {
        "colab": {
          "base_uri": "https://localhost:8080/"
        },
        "id": "3_P6hRetmD8b",
        "outputId": "5086ab8b-dcb7-4640-d480-ca95530674f5"
      },
      "outputs": [
        {
          "output_type": "stream",
          "name": "stdout",
          "text": [
            "Reading package lists... Done\n",
            "Building dependency tree       \n",
            "Reading state information... Done\n",
            "The following package was automatically installed and is no longer required:\n",
            "  libnvidia-common-470\n",
            "Use 'apt autoremove' to remove it.\n",
            "The following NEW packages will be installed:\n",
            "  poppler-utils\n",
            "0 upgraded, 1 newly installed, 0 to remove and 39 not upgraded.\n",
            "Need to get 154 kB of archives.\n",
            "After this operation, 613 kB of additional disk space will be used.\n",
            "Get:1 http://archive.ubuntu.com/ubuntu bionic-updates/main amd64 poppler-utils amd64 0.62.0-2ubuntu2.12 [154 kB]\n",
            "Fetched 154 kB in 0s (1,752 kB/s)\n",
            "Selecting previously unselected package poppler-utils.\n",
            "(Reading database ... 155320 files and directories currently installed.)\n",
            "Preparing to unpack .../poppler-utils_0.62.0-2ubuntu2.12_amd64.deb ...\n",
            "Unpacking poppler-utils (0.62.0-2ubuntu2.12) ...\n",
            "Setting up poppler-utils (0.62.0-2ubuntu2.12) ...\n",
            "Processing triggers for man-db (2.8.3-2ubuntu0.1) ...\n",
            "  % Total    % Received % Xferd  Average Speed   Time    Time     Time  Current\n",
            "                                 Dload  Upload   Total   Spent    Left  Speed\n",
            "100 18.8M  100 18.8M    0     0  5189k      0  0:00:03  0:00:03 --:--:-- 5188k\n"
          ]
        }
      ],
      "source": [
        "!apt-get install poppler-utils\n",
        "!file=`curl -s \"https://www.city.nerima.tokyo.jp/hokenfukushi/hoken/kansensho/2019-nCoV/ruikei.html\" -o - | grep -oP 'ruikei.files/kansenruikei\\d{8,8}.pdf' | sed -re 's/.pdf//g' | sed -re 's_ruikei.files/__g'`;curl https://www.city.nerima.tokyo.jp/hokenfukushi/hoken/kansensho/2019-nCoV/ruikei.files/${file}.pdf -o ${file}.pdf;pdftotext -layout ${file}.pdf - | awk 'BEGIN { OFS=\",\"; print \"NO.,公表日,年代,性別,退院等\"; } NR>=6 { print $1, $2, $3, $4, $5 }' > ${file}.csv;pdftotext -layout ${file}.pdf - | awk 'BEGIN { OFS=\",\"; print \"公表日,年代,性別,退院等\"; } NR>=6 { print $2, $3, $4, $5 }' > ${file}_1.csv"
      ]
    },
    {
      "cell_type": "markdown",
      "source": [
        "# 新しいセクション"
      ],
      "metadata": {
        "id": "-RcMAV26oGph"
      }
    }
  ]
}